{
 "cells": [
  {
   "cell_type": "markdown",
   "id": "7b1c7bdc",
   "metadata": {},
   "source": [
    "# Leading reasons of the deaths in US"
   ]
  },
  {
   "cell_type": "markdown",
   "id": "f4010052",
   "metadata": {},
   "source": [
    "# Introduction"
   ]
  },
  {
   "cell_type": "markdown",
   "id": "8508d5eb",
   "metadata": {},
   "source": [
    "Data Management is a process of acquiring, validating, storing, manipulating and analysing data. This is going to be significant due to heavy reliance on data creation, manipulation & consumption of various datasets for analytical puporses. The objective of this project is to implement different Data Management techniques including exploratory data analysis, data cleaning and manipulation, in order to analyse the data and gather useful insights using 'Pandas' package available in Python to answer analytical questions related to the data."
   ]
  },
  {
   "cell_type": "markdown",
   "id": "8fcde1c0",
   "metadata": {},
   "source": [
    "# 2) Data"
   ]
  },
  {
   "cell_type": "markdown",
   "id": "ed830263",
   "metadata": {},
   "source": [
    "We are using two publically available datasets for this project, containing data related to population and causes of death in USA.\n",
    "\n",
    "1) NCHS_-_Leading_Causes_of_Death__United_States\n",
    "2) nst-est2018-01\n",
    "\n",
    "The first dataset contains information on the number of deaths and its causes in USA. It has national as well as state level information for the period 1999 to 2016. The second datasets contains the information on the population of USA as a whole, population data for each state and each of four census regions for the period 2010 to 2018."
   ]
  },
  {
   "cell_type": "markdown",
   "id": "651787b6",
   "metadata": {},
   "source": [
    "# 3) Research Questions"
   ]
  },
  {
   "cell_type": "markdown",
   "id": "508c837c",
   "metadata": {},
   "source": [
    "#We are going to address the following questions in this project.\n",
    "\n",
    "1) Are Americans facing increasing, decreasing or study likelihood of death?\n",
    "\n",
    "2) What are the four leading causes of deaths for Americans?\n",
    "\n",
    "3) Do individual states show the same four leading causes of death?\n",
    "\n",
    "4) Are there year by year changes in the four leading causes of deaths nationwise?"
   ]
  },
  {
   "cell_type": "markdown",
   "id": "9d34e351",
   "metadata": {},
   "source": [
    "# 4) Code, Explanation and Analysis"
   ]
  },
  {
   "cell_type": "code",
   "execution_count": 1,
   "id": "8fd2133b",
   "metadata": {},
   "outputs": [],
   "source": [
    "import pandas as pd\n",
    "import numpy as np"
   ]
  },
  {
   "cell_type": "code",
   "execution_count": 7,
   "id": "a98fc8cb",
   "metadata": {},
   "outputs": [
    {
     "data": {
      "text/html": [
       "<div>\n",
       "<style scoped>\n",
       "    .dataframe tbody tr th:only-of-type {\n",
       "        vertical-align: middle;\n",
       "    }\n",
       "\n",
       "    .dataframe tbody tr th {\n",
       "        vertical-align: top;\n",
       "    }\n",
       "\n",
       "    .dataframe thead th {\n",
       "        text-align: right;\n",
       "    }\n",
       "</style>\n",
       "<table border=\"1\" class=\"dataframe\">\n",
       "  <thead>\n",
       "    <tr style=\"text-align: right;\">\n",
       "      <th></th>\n",
       "      <th>Year</th>\n",
       "      <th>113 Cause Name</th>\n",
       "      <th>Cause Name</th>\n",
       "      <th>State</th>\n",
       "      <th>Deaths</th>\n",
       "      <th>Age-adjusted Death Rate</th>\n",
       "    </tr>\n",
       "  </thead>\n",
       "  <tbody>\n",
       "    <tr>\n",
       "      <th>0</th>\n",
       "      <td>2012</td>\n",
       "      <td>Nephritis, nephrotic syndrome and nephrosis (N...</td>\n",
       "      <td>Kidney disease</td>\n",
       "      <td>Vermont</td>\n",
       "      <td>21</td>\n",
       "      <td>2.6</td>\n",
       "    </tr>\n",
       "    <tr>\n",
       "      <th>1</th>\n",
       "      <td>2016</td>\n",
       "      <td>Nephritis, nephrotic syndrome and nephrosis (N...</td>\n",
       "      <td>Kidney disease</td>\n",
       "      <td>Vermont</td>\n",
       "      <td>30</td>\n",
       "      <td>3.7</td>\n",
       "    </tr>\n",
       "  </tbody>\n",
       "</table>\n",
       "</div>"
      ],
      "text/plain": [
       "   Year                                     113 Cause Name      Cause Name  \\\n",
       "0  2012  Nephritis, nephrotic syndrome and nephrosis (N...  Kidney disease   \n",
       "1  2016  Nephritis, nephrotic syndrome and nephrosis (N...  Kidney disease   \n",
       "\n",
       "     State  Deaths  Age-adjusted Death Rate  \n",
       "0  Vermont      21                      2.6  \n",
       "1  Vermont      30                      3.7  "
      ]
     },
     "execution_count": 7,
     "metadata": {},
     "output_type": "execute_result"
    }
   ],
   "source": [
    "mydir = \"C:/Users/Palam/Downloads/\"\n",
    "myfile = mydir + \"NCHS_-_Leading_Causes_of_Death__United_States.csv\"\n",
    "NCHS = pd.read_csv(myfile)\n",
    "\n",
    "#Convert the file to dataframe\n",
    "NCHS_df = pd.DataFrame(NCHS)\n",
    "\n",
    "#Read first 2 records\n",
    "NCHS_df.head(2)"
   ]
  },
  {
   "cell_type": "markdown",
   "id": "e22b983c",
   "metadata": {},
   "source": [
    "In order to understand the data structure, its size and variables, we execute the following commands:"
   ]
  },
  {
   "cell_type": "code",
   "execution_count": 8,
   "id": "92cd7784",
   "metadata": {},
   "outputs": [
    {
     "name": "stdout",
     "output_type": "stream",
     "text": [
      "Data Structure: \n",
      " Year                         int64\n",
      "113 Cause Name              object\n",
      "Cause Name                  object\n",
      "State                       object\n",
      "Deaths                       int64\n",
      "Age-adjusted Death Rate    float64\n",
      "dtype: object\n",
      "\n",
      " Count of Rows and Columns: \n",
      " (10296, 6)\n",
      "\n",
      " Name of columns: \n",
      " ['Year', '113 Cause Name', 'Cause Name', 'State', 'Deaths', 'Age-adjusted Death Rate']\n"
     ]
    }
   ],
   "source": [
    "print('Data Structure:', '\\n', NCHS_df.dtypes)\n",
    "print('\\n', 'Count of Rows and Columns:', '\\n', NCHS_df.shape)\n",
    "print('\\n', 'Name of columns:', '\\n', list(NCHS_df))"
   ]
  },
  {
   "cell_type": "markdown",
   "id": "511020f4",
   "metadata": {},
   "source": [
    "#To further check the uniques values for the columns and check if there are any null or missing values, following commands are executed."
   ]
  },
  {
   "cell_type": "code",
   "execution_count": 9,
   "id": "c200ffbd",
   "metadata": {},
   "outputs": [
    {
     "name": "stdout",
     "output_type": "stream",
     "text": [
      "Unique Years: 18\n",
      "Unique States: 52\n",
      "Unique Causes of Death: 11\n",
      "\n",
      " Count of null or missing values for each column: \n",
      " Year                       0\n",
      "113 Cause Name             0\n",
      "Cause Name                 0\n",
      "State                      0\n",
      "Deaths                     0\n",
      "Age-adjusted Death Rate    0\n",
      "dtype: int64\n"
     ]
    }
   ],
   "source": [
    "print('Unique Years:', NCHS_df.Year.nunique())\n",
    "print('Unique States:', NCHS_df.State.nunique())\n",
    "print('Unique Causes of Death:', len(pd.unique(NCHS_df['Cause Name'])))\n",
    "\n",
    "print('\\n', 'Count of null or missing values for each column:', '\\n', NCHS_df.isnull().sum())"
   ]
  },
  {
   "cell_type": "markdown",
   "id": "34fbe925",
   "metadata": {},
   "source": [
    "Reading the second data file relating to population data and converting it into Pandas dataframe. On displaying the dataframe, it is seen that it is quite messy and requires cleaning and adjustments in order to use it. We will do that later, as and when required."
   ]
  },
  {
   "cell_type": "code",
   "execution_count": 13,
   "id": "ef3bcb1d",
   "metadata": {},
   "outputs": [
    {
     "data": {
      "text/html": [
       "<div>\n",
       "<style scoped>\n",
       "    .dataframe tbody tr th:only-of-type {\n",
       "        vertical-align: middle;\n",
       "    }\n",
       "\n",
       "    .dataframe tbody tr th {\n",
       "        vertical-align: top;\n",
       "    }\n",
       "\n",
       "    .dataframe thead th {\n",
       "        text-align: right;\n",
       "    }\n",
       "</style>\n",
       "<table border=\"1\" class=\"dataframe\">\n",
       "  <thead>\n",
       "    <tr style=\"text-align: right;\">\n",
       "      <th></th>\n",
       "      <th>table with row headers in column A and column headers in rows 3 through 4. (leading dots indicate sub-parts)</th>\n",
       "      <th>Unnamed: 1</th>\n",
       "      <th>Unnamed: 2</th>\n",
       "      <th>Unnamed: 3</th>\n",
       "      <th>Unnamed: 4</th>\n",
       "      <th>Unnamed: 5</th>\n",
       "      <th>Unnamed: 6</th>\n",
       "      <th>Unnamed: 7</th>\n",
       "      <th>Unnamed: 8</th>\n",
       "      <th>Unnamed: 9</th>\n",
       "      <th>Unnamed: 10</th>\n",
       "      <th>Unnamed: 11</th>\n",
       "    </tr>\n",
       "  </thead>\n",
       "  <tbody>\n",
       "    <tr>\n",
       "      <th>0</th>\n",
       "      <td>Table 1. Annual Estimates of the Resident Popu...</td>\n",
       "      <td>NaN</td>\n",
       "      <td>NaN</td>\n",
       "      <td>NaN</td>\n",
       "      <td>NaN</td>\n",
       "      <td>NaN</td>\n",
       "      <td>NaN</td>\n",
       "      <td>NaN</td>\n",
       "      <td>NaN</td>\n",
       "      <td>NaN</td>\n",
       "      <td>NaN</td>\n",
       "      <td>NaN</td>\n",
       "    </tr>\n",
       "    <tr>\n",
       "      <th>1</th>\n",
       "      <td>Geographic Area</td>\n",
       "      <td>2010-04-01 00:00:00</td>\n",
       "      <td>NaN</td>\n",
       "      <td>Population Estimate (as of July 1)</td>\n",
       "      <td>NaN</td>\n",
       "      <td>NaN</td>\n",
       "      <td>NaN</td>\n",
       "      <td>NaN</td>\n",
       "      <td>NaN</td>\n",
       "      <td>NaN</td>\n",
       "      <td>NaN</td>\n",
       "      <td>NaN</td>\n",
       "    </tr>\n",
       "    <tr>\n",
       "      <th>2</th>\n",
       "      <td>NaN</td>\n",
       "      <td>Census</td>\n",
       "      <td>Estimates Base</td>\n",
       "      <td>2010</td>\n",
       "      <td>2011.0</td>\n",
       "      <td>2012.0</td>\n",
       "      <td>2013.0</td>\n",
       "      <td>2014.0</td>\n",
       "      <td>2015.0</td>\n",
       "      <td>2016.0</td>\n",
       "      <td>2017.0</td>\n",
       "      <td>2018.0</td>\n",
       "    </tr>\n",
       "  </tbody>\n",
       "</table>\n",
       "</div>"
      ],
      "text/plain": [
       "  table with row headers in column A and column headers in rows 3 through 4. (leading dots indicate sub-parts)  \\\n",
       "0  Table 1. Annual Estimates of the Resident Popu...                                                             \n",
       "1                                    Geographic Area                                                             \n",
       "2                                                NaN                                                             \n",
       "\n",
       "            Unnamed: 1      Unnamed: 2                          Unnamed: 3  \\\n",
       "0                  NaN             NaN                                 NaN   \n",
       "1  2010-04-01 00:00:00             NaN  Population Estimate (as of July 1)   \n",
       "2               Census  Estimates Base                                2010   \n",
       "\n",
       "   Unnamed: 4  Unnamed: 5  Unnamed: 6  Unnamed: 7  Unnamed: 8  Unnamed: 9  \\\n",
       "0         NaN         NaN         NaN         NaN         NaN         NaN   \n",
       "1         NaN         NaN         NaN         NaN         NaN         NaN   \n",
       "2      2011.0      2012.0      2013.0      2014.0      2015.0      2016.0   \n",
       "\n",
       "   Unnamed: 10  Unnamed: 11  \n",
       "0          NaN          NaN  \n",
       "1          NaN          NaN  \n",
       "2       2017.0       2018.0  "
      ]
     },
     "execution_count": 13,
     "metadata": {},
     "output_type": "execute_result"
    }
   ],
   "source": [
    "file2 = mydir + \"nst-est2018-01.xlsx\"\n",
    "pop_data = pd.read_excel(file2)\n",
    "\n",
    "pop_df = pd.DataFrame(pop_data)\n",
    "pop_df.head(3)"
   ]
  },
  {
   "cell_type": "markdown",
   "id": "bc772506",
   "metadata": {},
   "source": [
    "### Q1: Are Americans face increasing, decreasing or steady likelihood of death?"
   ]
  },
  {
   "cell_type": "markdown",
   "id": "a2387022",
   "metadata": {},
   "source": [
    "For this problem, we need to look at the yearly death count for USA as whole and ignore the data for individual states. Also, since the population differs for each year, we need to standarized the death count for each year in order to be compared fairly.\n",
    "\n",
    "Steps:\n",
    "1) We will consider the first dataframe for the death causes i.e. NCHS_df. On observing the df, we can see that it has already aggregated the number of deaths and it's causes for USA as a whole, along with state wise count. So we will just extract the records with 'United States' as string in column 'State' as it represents the data for USA as whole.\n",
    "\n",
    "2) Next we need to exclude the records for 'All causes' in the column 'Cause Name' as they are the aggregate for all causes of deaths for all states. So we will just keep records for 10 causes of death for United States.\n",
    "\n",
    "3) We need the total number of deaths per year in order to analyze the death trend over the years.\n",
    "\n",
    "4) We know that population differs for each year. So in order to have fair comparision of death count over the years, we need to standarized the death variable. For this, we will extract the population data from the second df i.e. pop_df and use it to normalize the death count over the years.\n",
    "\n",
    "5) The final goal to analyze the death trend is to compute the number of deaths per year and then normalize it by dividing it by population for the year so that the effect of population is ignored."
   ]
  },
  {
   "cell_type": "code",
   "execution_count": 15,
   "id": "e8e0446c",
   "metadata": {},
   "outputs": [],
   "source": [
    "# creating a data frame with state - US .\n",
    "df_US = NCHS_df[NCHS_df['State'].isin(['United States'])]\n",
    "\n",
    "# From the above df, creating a new df with just 'All causes' in column 'Cause Name' \n",
    "drop_cause = df_US['Cause Name'].isin(['All causes'])\n",
    "\n",
    "#Filtered dataframe. Contains records for 10 causes of death for United States for the period of years.\n",
    "df_US_f = (df_US[-drop_cause]) "
   ]
  },
  {
   "cell_type": "markdown",
   "id": "97676598",
   "metadata": {},
   "source": [
    "We can check if dataframe, for the unique states and death causes by executing the following command"
   ]
  },
  {
   "cell_type": "code",
   "execution_count": 16,
   "id": "5dcffb3e",
   "metadata": {},
   "outputs": [
    {
     "name": "stdout",
     "output_type": "stream",
     "text": [
      "Unique State: 1\n",
      "Unique causes of death: 10\n"
     ]
    }
   ],
   "source": [
    "print('Unique State:', df_US_f.State.nunique())\n",
    "print('Unique causes of death:', len(pd.unique(df_US_f['Cause Name'])))"
   ]
  },
  {
   "cell_type": "markdown",
   "id": "77e12008",
   "metadata": {},
   "source": [
    "2) Next step is to compute the total number of deaths per year. For this we will use groupby function to group the df by year and then agg function to get the total number of deaths for each year. The output will contain a record for the number of deaths for each year regardless of the causes for USA."
   ]
  },
  {
   "cell_type": "code",
   "execution_count": 17,
   "id": "cae4860e",
   "metadata": {},
   "outputs": [
    {
     "data": {
      "text/html": [
       "<div>\n",
       "<style scoped>\n",
       "    .dataframe tbody tr th:only-of-type {\n",
       "        vertical-align: middle;\n",
       "    }\n",
       "\n",
       "    .dataframe tbody tr th {\n",
       "        vertical-align: top;\n",
       "    }\n",
       "\n",
       "    .dataframe thead th {\n",
       "        text-align: right;\n",
       "    }\n",
       "</style>\n",
       "<table border=\"1\" class=\"dataframe\">\n",
       "  <thead>\n",
       "    <tr style=\"text-align: right;\">\n",
       "      <th></th>\n",
       "      <th>Deaths</th>\n",
       "    </tr>\n",
       "    <tr>\n",
       "      <th>Year</th>\n",
       "      <th></th>\n",
       "    </tr>\n",
       "  </thead>\n",
       "  <tbody>\n",
       "    <tr>\n",
       "      <th>1999</th>\n",
       "      <td>1905826</td>\n",
       "    </tr>\n",
       "    <tr>\n",
       "      <th>2000</th>\n",
       "      <td>1902194</td>\n",
       "    </tr>\n",
       "  </tbody>\n",
       "</table>\n",
       "</div>"
      ],
      "text/plain": [
       "       Deaths\n",
       "Year         \n",
       "1999  1905826\n",
       "2000  1902194"
      ]
     },
     "execution_count": 17,
     "metadata": {},
     "output_type": "execute_result"
    }
   ],
   "source": [
    "US_totdeaths = df_US_f.groupby('Year').agg({'Deaths': sum})\n",
    "US_totdeaths.head(2) #Printing out first 2 records to verify the output"
   ]
  },
  {
   "cell_type": "markdown",
   "id": "5e1c8293",
   "metadata": {},
   "source": [
    "3) The structure of the population dataset is: each year as different column and the population for states as rows. Now in our filtered df, we have a single column for Years. So we need to extract the population for each year for the USA as whole, in a vertical form in order to be consistent with our df structure. We will execute the following command for the same. Here we are not concern with the index values, as it is just an intermediary step."
   ]
  },
  {
   "cell_type": "code",
   "execution_count": 18,
   "id": "a487a6a6",
   "metadata": {},
   "outputs": [
    {
     "data": {
      "text/html": [
       "<div>\n",
       "<style scoped>\n",
       "    .dataframe tbody tr th:only-of-type {\n",
       "        vertical-align: middle;\n",
       "    }\n",
       "\n",
       "    .dataframe tbody tr th {\n",
       "        vertical-align: top;\n",
       "    }\n",
       "\n",
       "    .dataframe thead th {\n",
       "        text-align: right;\n",
       "    }\n",
       "</style>\n",
       "<table border=\"1\" class=\"dataframe\">\n",
       "  <thead>\n",
       "    <tr style=\"text-align: right;\">\n",
       "      <th></th>\n",
       "      <th>Year</th>\n",
       "      <th>Population</th>\n",
       "    </tr>\n",
       "  </thead>\n",
       "  <tbody>\n",
       "    <tr>\n",
       "      <th>Unnamed: 3</th>\n",
       "      <td>2010</td>\n",
       "      <td>309326085</td>\n",
       "    </tr>\n",
       "    <tr>\n",
       "      <th>Unnamed: 4</th>\n",
       "      <td>2011.0</td>\n",
       "      <td>311580009.0</td>\n",
       "    </tr>\n",
       "  </tbody>\n",
       "</table>\n",
       "</div>"
      ],
      "text/plain": [
       "              Year   Population\n",
       "Unnamed: 3    2010    309326085\n",
       "Unnamed: 4  2011.0  311580009.0"
      ]
     },
     "execution_count": 18,
     "metadata": {},
     "output_type": "execute_result"
    }
   ],
   "source": [
    "pop_us = pd.DataFrame({'Year' : pop_df.iloc[2, 3:], 'Population' : pop_df.iloc[3, 3:]})\n",
    "pop_us.head(2) # printing first 2 records to verify the output."
   ]
  },
  {
   "cell_type": "markdown",
   "id": "b8d5a3a0",
   "metadata": {},
   "source": [
    "4) Merging the 2 dataframes using inner join on Year, since that is the common column in both the dataframes. Also, there is a difference in number of years in both the files. We are therefore using 'inner join' to keep the records common in both the files, as only those could be used for proper analysis. Further we add a new column to the merged df by calculating death per million to normalize the death variable for better comparision."
   ]
  },
  {
   "cell_type": "code",
   "execution_count": 19,
   "id": "64c63bd6",
   "metadata": {},
   "outputs": [
    {
     "data": {
      "text/html": [
       "<div>\n",
       "<style scoped>\n",
       "    .dataframe tbody tr th:only-of-type {\n",
       "        vertical-align: middle;\n",
       "    }\n",
       "\n",
       "    .dataframe tbody tr th {\n",
       "        vertical-align: top;\n",
       "    }\n",
       "\n",
       "    .dataframe thead th {\n",
       "        text-align: right;\n",
       "    }\n",
       "</style>\n",
       "<table border=\"1\" class=\"dataframe\">\n",
       "  <thead>\n",
       "    <tr style=\"text-align: right;\">\n",
       "      <th></th>\n",
       "      <th>Year</th>\n",
       "      <th>Deaths</th>\n",
       "      <th>Population</th>\n",
       "      <th>DPM</th>\n",
       "    </tr>\n",
       "  </thead>\n",
       "  <tbody>\n",
       "    <tr>\n",
       "      <th>0</th>\n",
       "      <td>2010</td>\n",
       "      <td>1852349</td>\n",
       "      <td>309326085</td>\n",
       "      <td>5988.337518</td>\n",
       "    </tr>\n",
       "    <tr>\n",
       "      <th>1</th>\n",
       "      <td>2011</td>\n",
       "      <td>1869321</td>\n",
       "      <td>311580009.0</td>\n",
       "      <td>5999.489524</td>\n",
       "    </tr>\n",
       "    <tr>\n",
       "      <th>2</th>\n",
       "      <td>2012</td>\n",
       "      <td>1876588</td>\n",
       "      <td>313874218.0</td>\n",
       "      <td>5978.789886</td>\n",
       "    </tr>\n",
       "    <tr>\n",
       "      <th>3</th>\n",
       "      <td>2013</td>\n",
       "      <td>1910311</td>\n",
       "      <td>316057727.0</td>\n",
       "      <td>6044.183821</td>\n",
       "    </tr>\n",
       "    <tr>\n",
       "      <th>4</th>\n",
       "      <td>2014</td>\n",
       "      <td>1938408</td>\n",
       "      <td>318386421.0</td>\n",
       "      <td>6088.224472</td>\n",
       "    </tr>\n",
       "    <tr>\n",
       "      <th>5</th>\n",
       "      <td>2015</td>\n",
       "      <td>2013017</td>\n",
       "      <td>320742673.0</td>\n",
       "      <td>6276.11219</td>\n",
       "    </tr>\n",
       "    <tr>\n",
       "      <th>6</th>\n",
       "      <td>2016</td>\n",
       "      <td>2034119</td>\n",
       "      <td>323071342.0</td>\n",
       "      <td>6296.191384</td>\n",
       "    </tr>\n",
       "  </tbody>\n",
       "</table>\n",
       "</div>"
      ],
      "text/plain": [
       "   Year   Deaths   Population          DPM\n",
       "0  2010  1852349    309326085  5988.337518\n",
       "1  2011  1869321  311580009.0  5999.489524\n",
       "2  2012  1876588  313874218.0  5978.789886\n",
       "3  2013  1910311  316057727.0  6044.183821\n",
       "4  2014  1938408  318386421.0  6088.224472\n",
       "5  2015  2013017  320742673.0   6276.11219\n",
       "6  2016  2034119  323071342.0  6296.191384"
      ]
     },
     "execution_count": 19,
     "metadata": {},
     "output_type": "execute_result"
    }
   ],
   "source": [
    "merged_us = pd.merge(US_totdeaths, pop_us, on = 'Year', how = 'inner')\n",
    "\n",
    "# Adding new column DPM\n",
    "merged_us['DPM'] = (merged_us['Deaths']/merged_us['Population'])*1000000\n",
    "merged_us"
   ]
  },
  {
   "cell_type": "markdown",
   "id": "a3f9f88f",
   "metadata": {},
   "source": [
    "Conclusion:\n",
    "From the above output we can see that death rate per million is gradually increasing from 2010 to 2016. So we can conclude that the Americans are facing increasing likelihood of death."
   ]
  },
  {
   "cell_type": "markdown",
   "id": "63b90cbc",
   "metadata": {},
   "source": [
    "# Q2: Four leading causes of death for Americans?"
   ]
  },
  {
   "cell_type": "markdown",
   "id": "1762b4d6",
   "metadata": {},
   "source": [
    "Here again we are dealing with the records for US as whole. The individual state records are ignored. We need to extract the four leading causes of death for US.\n",
    "\n",
    "For this purpose, we require a df having 'State' as only 'United States' and exclude the records for 'All causes' in column: 'Cause Name'. We will use the already created the df for this while addressing the Q1 above i.e. df_US_f.\n",
    "\n",
    "Next we need to group the data by column: 'Cause Name' and aggregate the total number of deaths for each cause over the years. Once this is done, we can extract the 4 causes having the highest death count for US.\n",
    "\n",
    "The final output will contain the 4 leading causes for death for US and the total count of death for each cause."
   ]
  },
  {
   "cell_type": "code",
   "execution_count": 20,
   "id": "f5ab1b51",
   "metadata": {},
   "outputs": [
    {
     "data": {
      "text/html": [
       "<div>\n",
       "<style scoped>\n",
       "    .dataframe tbody tr th:only-of-type {\n",
       "        vertical-align: middle;\n",
       "    }\n",
       "\n",
       "    .dataframe tbody tr th {\n",
       "        vertical-align: top;\n",
       "    }\n",
       "\n",
       "    .dataframe thead th {\n",
       "        text-align: right;\n",
       "    }\n",
       "</style>\n",
       "<table border=\"1\" class=\"dataframe\">\n",
       "  <thead>\n",
       "    <tr style=\"text-align: right;\">\n",
       "      <th></th>\n",
       "      <th>Cause Name</th>\n",
       "      <th>Deaths</th>\n",
       "    </tr>\n",
       "  </thead>\n",
       "  <tbody>\n",
       "    <tr>\n",
       "      <th>0</th>\n",
       "      <td>Heart disease</td>\n",
       "      <td>11575183</td>\n",
       "    </tr>\n",
       "    <tr>\n",
       "      <th>1</th>\n",
       "      <td>Cancer</td>\n",
       "      <td>10244536</td>\n",
       "    </tr>\n",
       "    <tr>\n",
       "      <th>2</th>\n",
       "      <td>Stroke</td>\n",
       "      <td>2580140</td>\n",
       "    </tr>\n",
       "    <tr>\n",
       "      <th>3</th>\n",
       "      <td>CLRD</td>\n",
       "      <td>2434726</td>\n",
       "    </tr>\n",
       "    <tr>\n",
       "      <th>4</th>\n",
       "      <td>Unintentional injuries</td>\n",
       "      <td>2177884</td>\n",
       "    </tr>\n",
       "    <tr>\n",
       "      <th>5</th>\n",
       "      <td>Alzheimer's disease</td>\n",
       "      <td>1373412</td>\n",
       "    </tr>\n",
       "    <tr>\n",
       "      <th>6</th>\n",
       "      <td>Diabetes</td>\n",
       "      <td>1316379</td>\n",
       "    </tr>\n",
       "    <tr>\n",
       "      <th>7</th>\n",
       "      <td>Influenza and pneumonia</td>\n",
       "      <td>1038969</td>\n",
       "    </tr>\n",
       "    <tr>\n",
       "      <th>8</th>\n",
       "      <td>Kidney disease</td>\n",
       "      <td>807980</td>\n",
       "    </tr>\n",
       "    <tr>\n",
       "      <th>9</th>\n",
       "      <td>Suicide</td>\n",
       "      <td>649843</td>\n",
       "    </tr>\n",
       "  </tbody>\n",
       "</table>\n",
       "</div>"
      ],
      "text/plain": [
       "                Cause Name    Deaths\n",
       "0            Heart disease  11575183\n",
       "1                   Cancer  10244536\n",
       "2                   Stroke   2580140\n",
       "3                     CLRD   2434726\n",
       "4   Unintentional injuries   2177884\n",
       "5      Alzheimer's disease   1373412\n",
       "6                 Diabetes   1316379\n",
       "7  Influenza and pneumonia   1038969\n",
       "8           Kidney disease    807980\n",
       "9                  Suicide    649843"
      ]
     },
     "execution_count": 20,
     "metadata": {},
     "output_type": "execute_result"
    }
   ],
   "source": [
    "#Applying groupby and agg functions on df_US_f to get total number of deaths for\n",
    "#each cause for US and extracting top 4 causes\n",
    "death_cause_US = df_US_f.groupby('Cause Name').agg({'Deaths': \n",
    "                                                    sum})['Deaths'].nlargest(10).reset_index()\n",
    "\n",
    "death_cause_US #Printing the output to verify"
   ]
  },
  {
   "cell_type": "markdown",
   "id": "dbe52d1a",
   "metadata": {},
   "source": [
    "Conclusion:\n",
    "The four leading causes of deaths for United States over the years are 'Heart disease', 'Cancer', 'Stroke' and 'CLRD'."
   ]
  },
  {
   "cell_type": "markdown",
   "id": "8620038f",
   "metadata": {},
   "source": [
    "### Q3: Do individual states show the same four leading causes of death?"
   ]
  },
  {
   "cell_type": "markdown",
   "id": "826e1418",
   "metadata": {},
   "source": [
    "Here we are required to determine if the individual states have the same leading causes of death as that for US as whole which we determined in Q2 above. Since there is no mention of the order of the leading causes of death, we are assuming that the order does not matter as long as the top causes of death are the same.\n",
    "\n",
    "Steps:\n",
    "1) Dataframe required here should not contain the records for US as whole in 'State' column and 'All causes' of death in 'Cause Name' column.\n",
    "\n",
    "2) We then need to determine the top four leading causes of death for each state and then compare it with the 4 leading causes of death for US as whole over the years.\n",
    "\n",
    "3) Determine if causes of death for individual states are same as that for country US."
   ]
  },
  {
   "cell_type": "markdown",
   "id": "939f1c06",
   "metadata": {},
   "source": [
    "step1) Creating the required dataframe and verifying it."
   ]
  },
  {
   "cell_type": "code",
   "execution_count": 21,
   "id": "7ac17a6e",
   "metadata": {},
   "outputs": [
    {
     "name": "stdout",
     "output_type": "stream",
     "text": [
      "Is United State in State? False\n",
      "Is All causes in Cause Name? False\n"
     ]
    }
   ],
   "source": [
    "#Using original df, creating a new df with 'State' column not containing 'United States'\n",
    "alls = NCHS_df[NCHS_df['State'].isin(['United States']) == False]\n",
    "\n",
    "#Using the above alls df,creating a new df with'Cause Name' column not containing 'All causes'.\n",
    "allstates = alls[alls['Cause Name'].isin(['All causes']) == False]\n",
    "\n",
    "#Verifying the df allstates\n",
    "print('Is United State in State?', allstates['State'].isin(['United States']).any())    \n",
    "print('Is All causes in Cause Name?', allstates['Cause Name'].isin(['All causes']\n",
    "                                                                  ).any())"
   ]
  },
  {
   "cell_type": "markdown",
   "id": "59f391e2",
   "metadata": {},
   "source": [
    "2) Next we need to determine top 4 causes of death for each state and compare it with top 4 death cause for US. For this we use for loop and ifelse statement.\n",
    "\n",
    "We create a new df (state_grp) from earlier df (allstates) by grouping it on 'State' column.\n",
    "\n",
    "Then in a 'for loop', we use 'get_group' function for the groups in df: state_grp and save it in a new variable: 'states'. This will save all the 51 states in the df in 'states' variable so that it is looped by 'states'.\n",
    "\n",
    "We further group the df: 'states' by 'Cause Name' column and aggregate the 'Deaths' over the years and also extract the 4 highest leading causes of death for each state and store it in a new variable - 'top4causes'.\n",
    "\n",
    "Then inside the 'for loop' we use a 'ifelse' statement to compare the list of death causes saved in 'top4causes' with the death causes for US determined earlier in 'death_cause_US'. If the 2 lists contain same causes in any order, the result is saved as true.\n",
    "\n",
    "Finally we can print out the count of states having same causes of death and find the percentage to analyse."
   ]
  },
  {
   "cell_type": "code",
   "execution_count": 22,
   "id": "213c5485",
   "metadata": {},
   "outputs": [
    {
     "name": "stdout",
     "output_type": "stream",
     "text": [
      "Number of states compared with US as whole, for top 4 leading causes of death: 51\n",
      "Total states have same leading death causes as that of US: 0\n",
      "Percentage of states having same 4 leading death causes as that of US a whole: 0 %\n"
     ]
    }
   ],
   "source": [
    "state_grp = allstates.groupby(['State'])\n",
    "result =[]\n",
    "for State in state_grp.groups:\n",
    "    states = state_grp.get_group(State)\n",
    "    top4causes = states.groupby(['Cause Name']).agg({'Deaths': \n",
    "                                                     sum})['Deaths'].nlargest(4).reset_index()\n",
    "    if set(death_cause_US['Cause Name']) == set(top4causes['Cause Name']):\n",
    "        result.append(True)\n",
    "    else:\n",
    "        result.append(False)\n",
    "\n",
    "print('Number of states compared with US as whole, for top 4 leading causes of death:',\n",
    "      len(result))\n",
    "print('Total states have same leading death causes as that of US:',sum(result))\n",
    "print('Percentage of states having same 4 leading death causes as that of US a whole:',\n",
    "      (round(((sum(result))/(len(result)))*100)), '%')"
   ]
  },
  {
   "cell_type": "markdown",
   "id": "bd1158d6",
   "metadata": {},
   "source": [
    "Conclusion:\n",
    "From the above output, we can see that out of total 51 states, 30 states have the same four leading causes of death as that of country US. i.e. 59% of states have the same 4 leading causes of death as that of US while 41% of states have different leading causes of death for all the years in aggregate."
   ]
  },
  {
   "cell_type": "markdown",
   "id": "4515753a",
   "metadata": {},
   "source": [
    "\n",
    "### Q4: Are there year by year changes in the four leading causes of death nationwide?"
   ]
  },
  {
   "cell_type": "markdown",
   "id": "d3724a55",
   "metadata": {},
   "source": [
    "Here we are required to determine if the top four causes of death for US for each year are same as compared to the top four causes of death for US over the years.\n",
    "\n",
    "Steps:\n",
    "1) We require a dataframe containing records for only 'United States' in 'State' column and exculde the records having 'All causes' in 'Cause Name' column. Since we have already created the df for this earlier, we will use the same df i.e. df_US_f here.\n",
    "\n",
    "2) Next we have to determine the top 4 causes of death for each year and compare with the top 4 causes for death for US for all years. For this, we will follow the same steps we did in Q3 part (2) above except instead of using groupby on column: 'Cause Name' as in Q3, here we will use groupby on column: 'Year'."
   ]
  },
  {
   "cell_type": "code",
   "execution_count": 23,
   "id": "3f949ccf",
   "metadata": {},
   "outputs": [
    {
     "name": "stdout",
     "output_type": "stream",
     "text": [
      "Number of years compared for the top 4 leading causes of death with that of aggregate of all years for US: 18\n",
      "Number of years having same leading death causes as that of US for all the years in aggregate: 0\n",
      "Percentage of years having same leading death causes as that of US for all years in aggregate: 0 %\n"
     ]
    }
   ],
   "source": [
    "# groupby year and agg death\n",
    "year_grp = df_US_f.groupby('Year')\n",
    "output = []\n",
    "year_list = []\n",
    "\n",
    "for Year in year_grp.groups:\n",
    "    year = year_grp.get_group(Year)\n",
    "    top_causes = year.groupby(['Cause Name']).agg({'Deaths': sum})['Deaths'].nlargest(4).reset_index()\n",
    "    if set(death_cause_US['Cause Name']) == set(top_causes['Cause Name']):\n",
    "        (output.append(True))\n",
    "    else:\n",
    "        output.append(False)\n",
    "\n",
    "print('Number of years compared for the top 4 leading causes of death with that of aggregate of all years for US:', \n",
    "      len(output))\n",
    "print('Number of years having same leading death causes as that of US for all the years in aggregate:',sum(output))\n",
    "print('Percentage of years having same leading death causes as that of US for all years in aggregate:', \n",
    "      (round(((sum(output))/(len(output)))*100)),'%')\n"
   ]
  },
  {
   "cell_type": "markdown",
   "id": "b60531f1",
   "metadata": {},
   "source": [
    "Conclusion:\n",
    "From the above analysis, we can see that 14 out of 18 years compared, have same 4 leading causes of death for US yearwise as well as for aggregate of all years. I.e. 78% of the years compared have same top 4 causes of death. Also, if analyse the output further by printing the list of top 4 causes of deaths for each year for US, we can see that the causes of death have started varying slightly in recent years."
   ]
  },
  {
   "cell_type": "markdown",
   "id": "1f54f5d5",
   "metadata": {},
   "source": [
    "## 5) Summary"
   ]
  },
  {
   "cell_type": "markdown",
   "id": "081cb788",
   "metadata": {},
   "source": [
    "- In this project, we implemented data management techniques using Pandas on the two datasets, analysed the outputs and extracted valueable insights. \n",
    "\n",
    "- Based on the analysis, we tried to addressed the questions stated and concluded that Americans are facing gradual increase in likelihood of deaths. \n",
    " \n",
    "- We determined the top 4 causes of deaths faced by Americans nationwide as well as causes for individual states and year-wise.\n",
    "\n",
    "- Finally concluded that for 78% of the years compared, the top 4 causes of death are same compared to that over the years while 30% of the states have same top causes of death as that for the entire nation."
   ]
  },
  {
   "cell_type": "code",
   "execution_count": null,
   "id": "ae595a72",
   "metadata": {},
   "outputs": [],
   "source": []
  }
 ],
 "metadata": {
  "kernelspec": {
   "display_name": "Python 3 (ipykernel)",
   "language": "python",
   "name": "python3"
  },
  "language_info": {
   "codemirror_mode": {
    "name": "ipython",
    "version": 3
   },
   "file_extension": ".py",
   "mimetype": "text/x-python",
   "name": "python",
   "nbconvert_exporter": "python",
   "pygments_lexer": "ipython3",
   "version": "3.9.7"
  }
 },
 "nbformat": 4,
 "nbformat_minor": 5
}
