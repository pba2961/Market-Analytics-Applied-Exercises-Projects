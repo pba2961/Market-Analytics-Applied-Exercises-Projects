{
 "cells": [
  {
   "cell_type": "code",
   "execution_count": 62,
   "id": "c3b57b38",
   "metadata": {},
   "outputs": [],
   "source": [
    "import matplotlib.pyplot as plt\n",
    "import numpy as np\n"
   ]
  },
  {
   "cell_type": "code",
   "execution_count": 63,
   "id": "8f38fe8c",
   "metadata": {},
   "outputs": [],
   "source": [
    "def read_waveforms(LA, RV, RA) :\n",
    "    infile = open('waveforms.csv', 'r')\n",
    "\n",
    "    line = infile.readline()\n",
    "    wf = 0 # which waveform are we trying to read (0 = LA, 1 = RV, 2 = RA)\n",
    "\n",
    "    while line :\n",
    "        line = line.strip()\n",
    "        data = line.split(',')\n",
    "\n",
    "        for i in range(0, len(data)) : \n",
    "            data[i] = float(data[i])\n",
    "\n",
    "        if(wf == 0) :\n",
    "            LA.append(data)\n",
    "        elif(wf == 1) :\n",
    "            RV.append(data)\n",
    "        elif(wf == 2) :\n",
    "            RA.append(data)\n",
    "        \n",
    "        wf = (wf + 1) % 3\n",
    "        line = infile.readline()\n",
    "\n",
    "    infile.close()"
   ]
  },
  {
   "cell_type": "code",
   "execution_count": 64,
   "id": "107b363b",
   "metadata": {},
   "outputs": [],
   "source": [
    "def read_times(TL, TR) :\n",
    "    infile = open('times.csv', 'r')\n",
    "    line = infile.readline()\n",
    "    data = line.strip().split(',')\n",
    "\n",
    "    for i in range(0, len(data)) : \n",
    "        data[i] = float(data[i])*1000;\n",
    "\n",
    "    TL.append(data)\n",
    "\n",
    "    line = infile.readline()\n",
    "    data = line.strip().split(',')\n",
    "\n",
    "    for i in range(0, len(data)) : \n",
    "        data[i] = float(data[i])*1000;\n",
    "\n",
    "    TR.append(data)\n",
    "    infile.close()"
   ]
  },
  {
   "cell_type": "code",
   "execution_count": 65,
   "id": "8758bba0",
   "metadata": {},
   "outputs": [],
   "source": [
    "# make empty data and time Lists\n",
    "LA_list = []\n",
    "RV_list = []\n",
    "RA_list = []\n",
    "TL_list = []\n",
    "TR_list = []"
   ]
  },
  {
   "cell_type": "code",
   "execution_count": 66,
   "id": "f30b3864",
   "metadata": {},
   "outputs": [],
   "source": [
    "read_waveforms(LA_list, RV_list, RA_list)"
   ]
  },
  {
   "cell_type": "code",
   "execution_count": 67,
   "id": "3b5f4b42",
   "metadata": {},
   "outputs": [],
   "source": [
    "read_times(TL_list, TR_list)\n"
   ]
  },
  {
   "cell_type": "code",
   "execution_count": 68,
   "id": "576e33ec",
   "metadata": {},
   "outputs": [],
   "source": [
    "# convert all data and time lists to numpy arrays for plotting\n",
    "LA = np.array(LA_list)\n",
    "RV = np.array(RV_list)\n",
    "RA = np.array(RA_list)\n",
    "TL = np.array(TL_list[0])\n",
    "TR = np.array(TR_list[0])"
   ]
  },
  {
   "cell_type": "code",
   "execution_count": 69,
   "id": "b249025b",
   "metadata": {},
   "outputs": [
    {
     "name": "stdout",
     "output_type": "stream",
     "text": [
      "8.169597987500001\n"
     ]
    }
   ],
   "source": [
    "print(np.mean( LA[2,:] ))"
   ]
  },
  {
   "cell_type": "code",
   "execution_count": 70,
   "id": "efc6fe1e",
   "metadata": {},
   "outputs": [],
   "source": [
    "plt.plot(TL, LA[6, :])\n",
    "plt.title('Linear Acceleration of Instance 7')\n",
    "plt.xlabel('Time (ms)')\n",
    "plt.ylabel('Lin Accel (g)')\n",
    "plt.xticks(np.arange(0, 55, step=5))\n",
    "plt.savefig('Instance 7.png')\n",
    "plt.close()\n"
   ]
  },
  {
   "cell_type": "code",
   "execution_count": 71,
   "id": "03398258",
   "metadata": {},
   "outputs": [],
   "source": [
    "def plot_waveforms(LA, RV, RA, TL, TR, sharex=True) :\n",
    "    num_instances = len(LA)\n",
    "    for i in range(0, num_instances) :\n",
    "        plt.rcParams['figure.figsize'] = [6, 5.8]\n",
    "\n",
    "        plt.subplot(3,1,1)\n",
    "        ymaxLA = (( np.max(LA[0,:])))\n",
    "        plt.plot(TL, LA[i])\n",
    "        plt.title('Waveforms for Instance ' + str(i + 1))\n",
    "        plt.ylabel('Lin Accel (g)')\n",
    "        plt.xticks(np.arange(0, 55, step=5))\n",
    "        #plt.yticks(np.arange(0, ymaxLA[i], step = 5 ))\n",
    "        plt.tight_layout()\n",
    "\n",
    "        plt.subplot(3,1,2)\n",
    "        ymaxRV = (( np.max(RV[0,:]))) \n",
    "        plt.plot(TR, RV[i])\n",
    "        plt.ylabel('Rot Vel (rad/sec)')\n",
    "        plt.xticks(np.arange(0, 55, step=5))\n",
    "        #plt.yticks(np.arange(0, ymaxRV[i], step = 5))\n",
    "        plt.tight_layout()\n",
    "\n",
    "        plt.subplot(3,1,3)\n",
    "        ymaxRA = (( np.max(RA[0,:])))\n",
    "        plt.plot(TR, RA[i])\n",
    "        plt.xlabel('Time (ms)')\n",
    "        plt.ylabel('Rot Accel (rad/sec^2)')\n",
    "        plt.xticks(np.arange(0, 55, step=5))\n",
    "        #plt.yticks(np.arange(0, ymaxRA[i], step = 2))\n",
    "        plt.tight_layout()\n",
    "        \n",
    "        plt.savefig('Instance ' + str(i + 1) + '.png')\n",
    "        plt.close()\n",
    "    print('Plots exported successfully')\n"
   ]
  },
  {
   "cell_type": "code",
   "execution_count": 72,
   "id": "bfbf8188",
   "metadata": {},
   "outputs": [
    {
     "name": "stdout",
     "output_type": "stream",
     "text": [
      "Plots exported successfully\n"
     ]
    }
   ],
   "source": [
    "plot_waveforms(LA,RV,RA,TL,TR)"
   ]
  },
  {
   "cell_type": "code",
   "execution_count": 75,
   "id": "ca18a8fa",
   "metadata": {},
   "outputs": [
    {
     "name": "stdout",
     "output_type": "stream",
     "text": [
      "MLA min:  0.0 , max:  0.0 , mean:  0.0\n",
      "ALA min:  4.39519404 , max:  22.2569035 , mean:  10.964327359823077\n",
      "PLA min:  16.8252 , max:  151.7148 , mean:  50.71578769230769\n",
      "MRV min:  0.0 , max:  0.0 , mean:  0.0\n",
      "ARV min:  5.7067274257425735 , max:  23.397538128712867 , mean:  10.961333207300836\n",
      "PRV min:  18.1009 , max:  55.3868 , mean:  35.96904461538462\n",
      "MRA min:  0.0 , max:  0.0 , mean:  0.0\n",
      "ARA min:  1.0092340495049505 , max:  4.418352356435643 , mean:  2.0706951779131764\n",
      "PRA min:  10.3132 , max:  44.5424 , mean:  13.493876923076924\n"
     ]
    }
   ],
   "source": [
    "MLA_list = []\n",
    "ALA_list = []\n",
    "PLA_list = []\n",
    "\n",
    "MRV_list = []\n",
    "ARV_list = []\n",
    "PRV_list = []\n",
    "\n",
    "MRA_list = []\n",
    "ARA_list = []\n",
    "PRA_list = []\n",
    "\n",
    "num_instances = len(LA)\n",
    "for i in range(0, num_instances):\n",
    "    MLA_list.append(np.min(LA[i, :]))\n",
    "    ALA_list.append(np.mean(LA[i, :]))\n",
    "    PLA_list.append(np.max(LA[i, :]))\n",
    "\n",
    "    MRV_list.append(np.min(RV[i, :]))\n",
    "    ARV_list.append(np.mean(RV[i, :]))\n",
    "    PRV_list.append(np.max(RV[i, :]))\n",
    "\n",
    "    MRA_list.append(np.min(RA[i, :]))\n",
    "    ARA_list.append(np.mean(RA[i, :]))\n",
    "    PRA_list.append(np.max(RA[i, :]))\n",
    "# Convert to Numpy.\n",
    "MLA = np.array(MLA_list)\n",
    "ALA = np.array(ALA_list)\n",
    "PLA = np.array(PLA_list)\n",
    "\n",
    "MRV = np.array(MRV_list)\n",
    "ARV = np.array(ARV_list)\n",
    "PRV = np.array(PRV_list)\n",
    "\n",
    "MRA = np.array(MRA_list)\n",
    "ARA = np.array(ARA_list)\n",
    "PRA = np.array(PRA_list)\n",
    "\n",
    "print(\"MLA min: \", np.min(MLA), \", max: \", np.max(MLA), \", mean: \", np.mean(MLA))\n",
    "print(\"ALA min: \", np.min(ALA), \", max: \", np.max(ALA), \", mean: \", np.mean(ALA))\n",
    "print(\"PLA min: \", np.min(PLA), \", max: \", np.max(PLA), \", mean: \", np.mean(PLA))\n",
    "\n",
    "print(\"MRV min: \", np.min(MRV), \", max: \", np.max(MRV), \", mean: \", np.mean(MRV))\n",
    "print(\"ARV min: \", np.min(ARV), \", max: \", np.max(ARV), \", mean: \", np.mean(ARV))\n",
    "print(\"PRV min: \", np.min(PRV), \", max: \", np.max(PRV), \", mean: \", np.mean(PRV))\n",
    "\n",
    "print(\"MRA min: \", np.min(MRA), \", max: \", np.max(MRA), \", mean: \", np.mean(MRA))\n",
    "print(\"ARA min: \", np.min(ARA), \", max: \", np.max(ARA), \", mean: \", np.mean(ARA))\n",
    "print(\"PRA min: \", np.min(PRA), \", max: \", np.max(PRA), \", mean: \", np.mean(PRA))"
   ]
  },
  {
   "cell_type": "code",
   "execution_count": 83,
   "id": "bea6a52e",
   "metadata": {},
   "outputs": [
    {
     "data": {
      "text/plain": [
       "<matplotlib.collections.PathCollection at 0x2448d9b9610>"
      ]
     },
     "execution_count": 83,
     "metadata": {},
     "output_type": "execute_result"
    },
    {
     "data": {
      "image/png": "[encoded data removed]",
      "text/plain": [
       "<Figure size 432x417.6 with 1 Axes>"
      ]
     },
     "metadata": {
      "needs_background": "light"
     },
     "output_type": "display_data"
    }
   ],
   "source": [
    "plt.scatter(PLA, PRV) \n"
   ]
  },
  {
   "cell_type": "code",
   "execution_count": 91,
   "id": "bb912e63",
   "metadata": {},
   "outputs": [
    {
     "data": {
      "text/plain": [
       "<matplotlib.collections.PathCollection at 0x2448f428a90>"
      ]
     },
     "execution_count": 91,
     "metadata": {},
     "output_type": "execute_result"
    },
    {
     "data": {
      "image/png": "[encoded data removed]",
      "text/plain": [
       "<Figure size 432x417.6 with 1 Axes>"
      ]
     },
     "metadata": {
      "needs_background": "light"
     },
     "output_type": "display_data"
    }
   ],
   "source": [
    "plt.scatter(PLA, PRA)\n"
   ]
  },
  {
   "cell_type": "code",
   "execution_count": 88,
   "id": "062ad112",
   "metadata": {},
   "outputs": [
    {
     "data": {
      "text/plain": [
       "<matplotlib.collections.PathCollection at 0x2448f06e610>"
      ]
     },
     "execution_count": 88,
     "metadata": {},
     "output_type": "execute_result"
    },
    {
     "data": {
      "image/png": "[encoded data removed]",
      "text/plain": [
       "<Figure size 432x417.6 with 1 Axes>"
      ]
     },
     "metadata": {
      "needs_background": "light"
     },
     "output_type": "display_data"
    }
   ],
   "source": [
    "plt.scatter(PRV, PRA)\n"
   ]
  },
  {
   "cell_type": "code",
   "execution_count": 92,
   "id": "e7c46d03",
   "metadata": {},
   "outputs": [
    {
     "data": {
      "text/plain": [
       "<matplotlib.collections.PathCollection at 0x2448f592fd0>"
      ]
     },
     "execution_count": 92,
     "metadata": {},
     "output_type": "execute_result"
    },
    {
     "data": {
      "image/png": "[encoded data removed]",
      "text/plain": [
       "<Figure size 432x417.6 with 1 Axes>"
      ]
     },
     "metadata": {
      "needs_background": "light"
     },
     "output_type": "display_data"
    }
   ],
   "source": [
    "plt.scatter(PLA, ALA)"
   ]
  },
  {
   "cell_type": "code",
   "execution_count": 93,
   "id": "f55de497",
   "metadata": {},
   "outputs": [
    {
     "name": "stdout",
     "output_type": "stream",
     "text": [
      "PLA > 100:  (array([ 7,  8, 10, 18, 19], dtype=int64),)\n",
      "PRA > 20 (array([ 7,  8, 10, 18, 19], dtype=int64),)\n",
      "PRV > 45 (array([ 7,  8, 10, 33, 59], dtype=int64),)\n"
     ]
    }
   ],
   "source": [
    "print(\"PLA > 100: \", np.nonzero(PLA > 100))\n",
    "print(\"PRA > 20\", np.nonzero(PRA > 20))\n",
    "print(\"PRV > 45\", np.nonzero(PRV > 45))"
   ]
  },
  {
   "cell_type": "code",
   "execution_count": 94,
   "id": "9341b7c8",
   "metadata": {},
   "outputs": [
    {
     "name": "stdout",
     "output_type": "stream",
     "text": [
      "[37.9399 33.2567 36.8044 40.8535 41.1799 36.566  34.1078 51.3606 55.3868\n",
      " 34.582  47.6362 39.591  36.056  32.5795 28.0657 37.7867 32.8389 37.5016\n",
      " 39.1957 36.1432 27.5052 33.2324 36.2466 36.6917 42.0369 41.9178 39.076\n",
      " 39.2838 31.7027 29.7774 25.1638 36.9254 34.9953 47.3332 29.6655 32.494\n",
      " 34.7144 33.4037 42.9951 23.4661 38.2224 33.5887 28.978  31.5898 34.8769\n",
      " 39.1026 35.6991 32.0643 36.6666 30.0453 39.6096 31.3045 30.4268 30.1427\n",
      " 40.9575 37.7427 36.4795 30.4263 42.1128 48.49   39.2719 18.1009 38.6053\n",
      " 35.3803 30.0443]\n",
      "[13.1446 10.8438 10.5262 10.3132 12.6122 10.9258 11.2316 27.9306 44.5424\n",
      " 11.0848 25.1077 15.1006 11.025  11.2275 10.6406 13.1043 12.3313 12.8003\n",
      " 30.2862 23.0736 11.8279 14.6189 12.7571 10.4241 12.8412 14.3234 10.7777\n",
      " 10.3581 11.9698 11.339  11.5442 12.5821 11.91   13.3908 14.2204 12.1504\n",
      " 12.2637 10.7979 12.0019 10.325  13.07   14.0127 11.3218 11.6517 12.1076\n",
      " 10.5645 12.1282 12.8603 11.3515 11.9222 13.3992 10.4788 10.8267 11.3416\n",
      " 11.6169 13.1545 12.7425 13.5724 14.4932 10.9882 11.1118 11.8939 13.4295\n",
      " 12.2924 14.494 ]\n",
      "[ 31.0846  42.3851  39.105   38.055   30.3696  54.7442  42.5714 110.9405\n",
      " 131.7017  35.1772 130.7306  63.9629  52.0344  27.035   20.5185  42.3097\n",
      "  39.612   31.1734 127.1141 151.7148  56.7477  27.3868  39.6305  37.1073\n",
      "  62.057   44.4492  45.8111  26.1897  36.8324  78.4129  36.7765  31.1608\n",
      "  26.8979  35.56    76.8883  33.3552  35.0214  33.9518  70.3428  48.5514\n",
      "  36.5491  69.637   23.076   18.223   21.1446  30.9266  75.1122  68.9492\n",
      "  29.8736  31.2138  73.602   16.8252  28.7676  43.1111  68.0626  78.3577\n",
      "  48.6229  47.0987  72.9067  43.7065  52.2171  44.8825  59.8611  52.5665\n",
      "  35.7625]\n"
     ]
    }
   ],
   "source": [
    "print(np.array(PRV_list))\n",
    "print(np.array(PRA_list))\n",
    "print(np.array(PLA_list))"
   ]
  },
  {
   "cell_type": "code",
   "execution_count": 95,
   "id": "8148540f",
   "metadata": {},
   "outputs": [],
   "source": [
    "col = np.where(PLA>100,'r','b')\n",
    "plt.scatter(PLA, PRV, c=col)\n",
    "plt.xlabel('PLA')\n",
    "plt.ylabel('PRV')\n",
    "plt.savefig('Instance PLA vs PRV.png')\n",
    "plt.close()"
   ]
  },
  {
   "cell_type": "code",
   "execution_count": 96,
   "id": "80887279",
   "metadata": {},
   "outputs": [],
   "source": [
    "col1 = np.where(PLA>100,'r','b')\n",
    "plt.scatter(PLA, PRV, c=col1)\n",
    "plt.xlabel('PLA')\n",
    "plt.ylabel('PRV')\n",
    "plt.savefig('Instance PLA vs PRV.png')\n",
    "plt.close()\n",
    "\n",
    "col2 = np.where(PRA>20,'r','b')\n",
    "plt.scatter(PLA, PRA, c=col2)\n",
    "plt.xlabel('PLA')\n",
    "plt.ylabel('PRA')\n",
    "plt.savefig('Instance PLA vs PRA.png')\n",
    "plt.close()\n",
    "\n",
    "plt.scatter(PRV, PRA)\n",
    "plt.xlabel('PRV')\n",
    "plt.ylabel('PRA')\n",
    "plt.savefig('Instance PRV vs PRA.png')\n",
    "plt.close()"
   ]
  },
  {
   "cell_type": "code",
   "execution_count": null,
   "id": "3ede2056",
   "metadata": {},
   "outputs": [],
   "source": []
  }
 ],
 "metadata": {
  "kernelspec": {
   "display_name": "Python 3 (ipykernel)",
   "language": "python",
   "name": "python3"
  },
  "language_info": {
   "codemirror_mode": {
    "name": "ipython",
    "version": 3
   },
   "file_extension": ".py",
   "mimetype": "text/x-python",
   "name": "python",
   "nbconvert_exporter": "python",
   "pygments_lexer": "ipython3",
   "version": "3.9.7"
  }
 },
 "nbformat": 4,
 "nbformat_minor": 5
}
